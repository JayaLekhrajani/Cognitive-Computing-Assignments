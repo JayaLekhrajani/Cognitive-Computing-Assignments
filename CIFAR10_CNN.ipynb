{
 "cells": [
  {
   "cell_type": "code",
   "execution_count": 10,
   "metadata": {},
   "outputs": [],
   "source": [
    "# Simple CNN model for CIFAR-10\n",
    "import numpy\n",
    "from keras.datasets import cifar10\n",
    "from keras.models import Sequential\n",
    "from keras.layers import Dense\n",
    "from keras.layers import Dropout\n",
    "from keras.layers import Flatten\n",
    "from keras.constraints import maxnorm\n",
    "from keras.optimizers import SGD\n",
    "from keras.layers.convolutional import Conv2D\n",
    "from keras.layers.convolutional import MaxPooling2D\n",
    "from keras.utils import np_utils\n",
    "from keras import backend as K\n",
    "K.set_image_dim_ordering('th')"
   ]
  },
  {
   "cell_type": "code",
   "execution_count": 11,
   "metadata": {
    "collapsed": true
   },
   "outputs": [],
   "source": [
    "# fix random seed for reproducibility\n",
    "seed = 7\n",
    "numpy.random.seed(seed)"
   ]
  },
  {
   "cell_type": "code",
   "execution_count": 12,
   "metadata": {
    "collapsed": true
   },
   "outputs": [],
   "source": [
    "# load data\n",
    "(X_train, y_train), (X_test, y_test) = cifar10.load_data()"
   ]
  },
  {
   "cell_type": "code",
   "execution_count": 13,
   "metadata": {
    "collapsed": true
   },
   "outputs": [],
   "source": [
    "# normalize inputs from 0-255 to 0.0-1.0\n",
    "X_train = X_train.astype('float32')\n",
    "X_test = X_test.astype('float32')\n",
    "X_train = X_train / 255.0\n",
    "X_test = X_test / 255.0"
   ]
  },
  {
   "cell_type": "code",
   "execution_count": 14,
   "metadata": {
    "collapsed": true
   },
   "outputs": [],
   "source": [
    "# one hot encode outputs\n",
    "y_train = np_utils.to_categorical(y_train)\n",
    "y_test = np_utils.to_categorical(y_test)\n",
    "num_classes = y_test.shape[1]"
   ]
  },
  {
   "cell_type": "code",
   "execution_count": 6,
   "metadata": {},
   "outputs": [
    {
     "name": "stdout",
     "output_type": "stream",
     "text": [
      "_________________________________________________________________\n",
      "Layer (type)                 Output Shape              Param #   \n",
      "=================================================================\n",
      "conv2d_1 (Conv2D)            (None, 32, 32, 32)        896       \n",
      "_________________________________________________________________\n",
      "dropout_1 (Dropout)          (None, 32, 32, 32)        0         \n",
      "_________________________________________________________________\n",
      "conv2d_2 (Conv2D)            (None, 32, 32, 32)        9248      \n",
      "_________________________________________________________________\n",
      "max_pooling2d_1 (MaxPooling2 (None, 32, 16, 16)        0         \n",
      "_________________________________________________________________\n",
      "flatten_1 (Flatten)          (None, 8192)              0         \n",
      "_________________________________________________________________\n",
      "dense_1 (Dense)              (None, 512)               4194816   \n",
      "_________________________________________________________________\n",
      "dropout_2 (Dropout)          (None, 512)               0         \n",
      "_________________________________________________________________\n",
      "dense_2 (Dense)              (None, 10)                5130      \n",
      "=================================================================\n",
      "Total params: 4,210,090\n",
      "Trainable params: 4,210,090\n",
      "Non-trainable params: 0\n",
      "_________________________________________________________________\n",
      "None\n"
     ]
    }
   ],
   "source": [
    "# Create the model\n",
    "model = Sequential()\n",
    "model.add(Conv2D(32, (3, 3), input_shape=(3, 32, 32), padding='same', activation='relu', kernel_constraint=maxnorm(3)))\n",
    "model.add(Dropout(0.2))\n",
    "model.add(Conv2D(32, (3, 3), activation='relu', padding='same', kernel_constraint=maxnorm(3)))\n",
    "model.add(MaxPooling2D(pool_size=(2, 2)))\n",
    "model.add(Flatten())\n",
    "model.add(Dense(512, activation='relu', kernel_constraint=maxnorm(3)))\n",
    "model.add(Dropout(0.5))\n",
    "model.add(Dense(num_classes, activation='softmax'))\n",
    "# Compile model\n",
    "epochs = 25\n",
    "lrate = 0.01\n",
    "decay = lrate/epochs\n",
    "sgd = SGD(lr=lrate, momentum=0.9, decay=decay, nesterov=False)\n",
    "model.compile(loss='categorical_crossentropy', optimizer=sgd, metrics=['accuracy'])\n",
    "print(model.summary())"
   ]
  },
  {
   "cell_type": "code",
   "execution_count": 7,
   "metadata": {},
   "outputs": [
    {
     "name": "stdout",
     "output_type": "stream",
     "text": [
      "Train on 50000 samples, validate on 10000 samples\n",
      "Epoch 1/25\n",
      "50000/50000 [==============================] - 130s - loss: 1.7034 - acc: 0.3849 - val_loss: 1.3682 - val_acc: 0.5072\n",
      "Epoch 2/25\n",
      "50000/50000 [==============================] - 124s - loss: 1.3428 - acc: 0.5188 - val_loss: 1.2410 - val_acc: 0.5630\n",
      "Epoch 3/25\n",
      "50000/50000 [==============================] - 122s - loss: 1.1774 - acc: 0.5802 - val_loss: 1.1063 - val_acc: 0.6001\n",
      "Epoch 4/25\n",
      "50000/50000 [==============================] - 122s - loss: 1.0505 - acc: 0.6244 - val_loss: 1.0404 - val_acc: 0.6306\n",
      "Epoch 5/25\n",
      "50000/50000 [==============================] - 123s - loss: 0.9473 - acc: 0.6649 - val_loss: 0.9890 - val_acc: 0.6498\n",
      "Epoch 6/25\n",
      "50000/50000 [==============================] - 122s - loss: 0.8645 - acc: 0.6933 - val_loss: 0.9623 - val_acc: 0.6617\n",
      "Epoch 7/25\n",
      "50000/50000 [==============================] - 121s - loss: 0.7880 - acc: 0.7208 - val_loss: 0.9378 - val_acc: 0.6733\n",
      "Epoch 8/25\n",
      "50000/50000 [==============================] - 122s - loss: 0.7237 - acc: 0.7428 - val_loss: 0.9107 - val_acc: 0.6859\n",
      "Epoch 9/25\n",
      "50000/50000 [==============================] - 130s - loss: 0.6567 - acc: 0.7685 - val_loss: 0.9221 - val_acc: 0.6851\n",
      "Epoch 10/25\n",
      "50000/50000 [==============================] - 126s - loss: 0.6042 - acc: 0.7861 - val_loss: 0.9188 - val_acc: 0.6882\n",
      "Epoch 11/25\n",
      "50000/50000 [==============================] - 124s - loss: 0.5576 - acc: 0.8036 - val_loss: 0.9227 - val_acc: 0.6964\n",
      "Epoch 12/25\n",
      "50000/50000 [==============================] - 123s - loss: 0.5144 - acc: 0.8179 - val_loss: 0.9182 - val_acc: 0.6984\n",
      "Epoch 13/25\n",
      "50000/50000 [==============================] - 124s - loss: 0.4766 - acc: 0.8323 - val_loss: 0.9381 - val_acc: 0.6965\n",
      "Epoch 14/25\n",
      "50000/50000 [==============================] - 123s - loss: 0.4466 - acc: 0.8433 - val_loss: 0.9253 - val_acc: 0.7018\n",
      "Epoch 15/25\n",
      "50000/50000 [==============================] - 123s - loss: 0.4111 - acc: 0.8535 - val_loss: 0.9296 - val_acc: 0.7048\n",
      "Epoch 16/25\n",
      "50000/50000 [==============================] - 123s - loss: 0.3827 - acc: 0.8660 - val_loss: 0.9582 - val_acc: 0.7020\n",
      "Epoch 17/25\n",
      "50000/50000 [==============================] - 121s - loss: 0.3575 - acc: 0.8753 - val_loss: 0.9750 - val_acc: 0.7071\n",
      "Epoch 18/25\n",
      "50000/50000 [==============================] - 122s - loss: 0.3369 - acc: 0.8809 - val_loss: 0.9701 - val_acc: 0.7073\n",
      "Epoch 19/25\n",
      "50000/50000 [==============================] - 123s - loss: 0.3147 - acc: 0.8897 - val_loss: 0.9978 - val_acc: 0.7102\n",
      "Epoch 20/25\n",
      "50000/50000 [==============================] - 122s - loss: 0.2992 - acc: 0.8951 - val_loss: 1.0090 - val_acc: 0.7053\n",
      "Epoch 21/25\n",
      "50000/50000 [==============================] - 122s - loss: 0.2819 - acc: 0.9023 - val_loss: 1.0016 - val_acc: 0.7085\n",
      "Epoch 22/25\n",
      "50000/50000 [==============================] - 122s - loss: 0.2627 - acc: 0.9081 - val_loss: 1.0171 - val_acc: 0.7102\n",
      "Epoch 23/25\n",
      "50000/50000 [==============================] - 122s - loss: 0.2503 - acc: 0.9135 - val_loss: 1.0478 - val_acc: 0.7105\n",
      "Epoch 24/25\n",
      "50000/50000 [==============================] - 122s - loss: 0.2403 - acc: 0.9174 - val_loss: 1.0656 - val_acc: 0.7100\n",
      "Epoch 25/25\n",
      "50000/50000 [==============================] - 123s - loss: 0.2264 - acc: 0.9213 - val_loss: 1.0567 - val_acc: 0.7110\n",
      "Accuracy: 71.10%\n"
     ]
    }
   ],
   "source": [
    "# Fit the model\n",
    "model.fit(X_train, y_train, validation_data=(X_test, y_test), epochs=epochs, batch_size=32)\n",
    "# Final evaluation of the model\n",
    "scores = model.evaluate(X_test, y_test, verbose=0)\n",
    "print(\"Accuracy: %.2f%%\" % (scores[1]*100))"
   ]
  },
  {
   "cell_type": "code",
   "execution_count": 18,
   "metadata": {},
   "outputs": [
    {
     "name": "stdout",
     "output_type": "stream",
     "text": [
      "_________________________________________________________________\n",
      "Layer (type)                 Output Shape              Param #   \n",
      "=================================================================\n",
      "conv2d_21 (Conv2D)           (None, 32, 32, 32)        896       \n",
      "_________________________________________________________________\n",
      "dropout_15 (Dropout)         (None, 32, 32, 32)        0         \n",
      "_________________________________________________________________\n",
      "conv2d_22 (Conv2D)           (None, 32, 32, 32)        9248      \n",
      "_________________________________________________________________\n",
      "max_pooling2d_11 (MaxPooling (None, 32, 16, 16)        0         \n",
      "_________________________________________________________________\n",
      "conv2d_23 (Conv2D)           (None, 64, 16, 16)        18496     \n",
      "_________________________________________________________________\n",
      "dropout_16 (Dropout)         (None, 64, 16, 16)        0         \n",
      "_________________________________________________________________\n",
      "conv2d_24 (Conv2D)           (None, 64, 16, 16)        36928     \n",
      "_________________________________________________________________\n",
      "max_pooling2d_12 (MaxPooling (None, 64, 8, 8)          0         \n",
      "_________________________________________________________________\n",
      "conv2d_25 (Conv2D)           (None, 128, 8, 8)         73856     \n",
      "_________________________________________________________________\n",
      "dropout_17 (Dropout)         (None, 128, 8, 8)         0         \n",
      "_________________________________________________________________\n",
      "conv2d_26 (Conv2D)           (None, 128, 8, 8)         147584    \n",
      "_________________________________________________________________\n",
      "max_pooling2d_13 (MaxPooling (None, 128, 4, 4)         0         \n",
      "_________________________________________________________________\n",
      "flatten_5 (Flatten)          (None, 2048)              0         \n",
      "_________________________________________________________________\n",
      "dropout_18 (Dropout)         (None, 2048)              0         \n",
      "_________________________________________________________________\n",
      "dense_12 (Dense)             (None, 1024)              2098176   \n",
      "_________________________________________________________________\n",
      "dropout_19 (Dropout)         (None, 1024)              0         \n",
      "_________________________________________________________________\n",
      "dense_13 (Dense)             (None, 512)               524800    \n",
      "_________________________________________________________________\n",
      "dropout_20 (Dropout)         (None, 512)               0         \n",
      "_________________________________________________________________\n",
      "dense_14 (Dense)             (None, 10)                5130      \n",
      "=================================================================\n",
      "Total params: 2,915,114\n",
      "Trainable params: 2,915,114\n",
      "Non-trainable params: 0\n",
      "_________________________________________________________________\n",
      "None\n"
     ]
    }
   ],
   "source": [
    "#Deep version of the simple CNN as shownabove.Introducing an additional round of convolutions with many more feature maps.\n",
    "#Using the same pattern of Convolutional, Dropout, Convolutional and Max Pooling layers.# Create the model\n",
    "model = Sequential()\n",
    "model.add(Conv2D(32, (3, 3), input_shape=(3, 32, 32), activation='relu', padding='same'))\n",
    "model.add(Dropout(0.2))\n",
    "model.add(Conv2D(32, (3, 3), activation='relu', padding='same'))\n",
    "model.add(MaxPooling2D(pool_size=(2, 2)))\n",
    "model.add(Conv2D(64, (3, 3), activation='relu', padding='same'))\n",
    "model.add(Dropout(0.2))\n",
    "model.add(Conv2D(64, (3, 3), activation='relu', padding='same'))\n",
    "model.add(MaxPooling2D(pool_size=(2, 2)))\n",
    "model.add(Conv2D(128, (3, 3), activation='relu', padding='same'))\n",
    "model.add(Dropout(0.2))\n",
    "model.add(Conv2D(128, (3, 3), activation='relu', padding='same'))\n",
    "model.add(MaxPooling2D(pool_size=(2, 2)))\n",
    "model.add(Flatten())\n",
    "model.add(Dropout(0.2))\n",
    "model.add(Dense(1024, activation='relu', kernel_constraint=maxnorm(3)))\n",
    "model.add(Dropout(0.2))\n",
    "model.add(Dense(512, activation='relu', kernel_constraint=maxnorm(3)))\n",
    "model.add(Dropout(0.2))\n",
    "model.add(Dense(num_classes, activation='softmax'))\n",
    "# Compile model\n",
    "epochs = 25\n",
    "lrate = 0.01\n",
    "decay = lrate/epochs\n",
    "sgd = SGD(lr=lrate, momentum=0.9, decay=decay, nesterov=False)\n",
    "model.compile(loss='categorical_crossentropy', optimizer=sgd, metrics=['accuracy'])\n",
    "print(model.summary())"
   ]
  },
  {
   "cell_type": "code",
   "execution_count": null,
   "metadata": {},
   "outputs": [
    {
     "name": "stdout",
     "output_type": "stream",
     "text": [
      "Train on 50000 samples, validate on 10000 samples\n",
      "Epoch 1/25\n",
      "50000/50000 [==============================] - 189s - loss: 1.9505 - acc: 0.2781 - val_loss: 1.6940 - val_acc: 0.3905\n",
      "Epoch 2/25\n",
      "50000/50000 [==============================] - 183s - loss: 1.5250 - acc: 0.4421 - val_loss: 1.3462 - val_acc: 0.5104\n",
      "Epoch 3/25\n",
      "43520/50000 [=========================>....] - ETA: 22s - loss: 1.3467 - acc: 0.5120"
     ]
    }
   ],
   "source": [
    "numpy.random.seed(seed)\n",
    "model.fit(X_train, y_train, validation_data=(X_test, y_test), epochs=epochs, batch_size=64)\n",
    "# Final evaluation of the model\n",
    "scores = model.evaluate(X_test, y_test, verbose=0)\n",
    "print(\"Accuracy: %.2f%%\" % (scores[1]*100))"
   ]
  },
  {
   "cell_type": "code",
   "execution_count": null,
   "metadata": {
    "collapsed": true
   },
   "outputs": [],
   "source": []
  },
  {
   "cell_type": "code",
   "execution_count": null,
   "metadata": {
    "collapsed": true
   },
   "outputs": [],
   "source": []
  }
 ],
 "metadata": {
  "kernelspec": {
   "display_name": "Python 3.5 (Experimental) with Spark 2.0",
   "language": "python",
   "name": "python3-spark20"
  },
  "language_info": {
   "codemirror_mode": {
    "name": "ipython",
    "version": 3
   },
   "file_extension": ".py",
   "mimetype": "text/x-python",
   "name": "python",
   "nbconvert_exporter": "python",
   "pygments_lexer": "ipython3",
   "version": "3.5.2"
  }
 },
 "nbformat": 4,
 "nbformat_minor": 1
}
